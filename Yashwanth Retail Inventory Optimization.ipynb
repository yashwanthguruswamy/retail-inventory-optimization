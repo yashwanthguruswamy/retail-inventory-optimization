{
 "cells": [
  {
   "cell_type": "code",
   "execution_count": 1,
   "id": "4fdd1574-1946-4738-9fa8-d2ef19266958",
   "metadata": {},
   "outputs": [],
   "source": [
    "# Retail Inventory Optimization Project - Full Python Analysis Script\n",
    "\n",
    "# Import required libraries\n",
    "import pandas as pd\n",
    "import numpy as np\n",
    "import matplotlib.pyplot as plt\n",
    "import seaborn as sns"
   ]
  },
  {
   "cell_type": "code",
   "execution_count": 2,
   "id": "551b4f0c-5b5d-44f2-b371-6d95906feb84",
   "metadata": {},
   "outputs": [],
   "source": [
    "# Set visualization style\n",
    "sns.set(style=\"whitegrid\")\n"
   ]
  },
  {
   "cell_type": "code",
   "execution_count": 3,
   "id": "7ec9d3c2-da64-4c81-8fb3-45f43ca38840",
   "metadata": {},
   "outputs": [
    {
     "name": "stdout",
     "output_type": "stream",
     "text": [
      "Loading dataset...\n",
      "Dataset loaded with shape: (200, 9)\n",
      "        Date Store_ID    SKU_ID     Category  Units_Sold  Inventory_On_Hand  \\\n",
      "0 2024-01-01  Store_3  SKU_1004    Groceries          17                196   \n",
      "1 2024-01-02  Store_1  SKU_1001  Electronics          25                 85   \n",
      "2 2024-01-03  Store_3  SKU_1001      Apparel          20                 78   \n",
      "3 2024-01-04  Store_3  SKU_1002    Groceries          12                131   \n",
      "4 2024-01-05  Store_1  SKU_1004      Apparel          21                 51   \n",
      "\n",
      "   Reorder_Point  Supplier_Lead_Time_Days  Reorder_Needed  \n",
      "0             34                        8           False  \n",
      "1             40                        5           False  \n",
      "2             57                       10           False  \n",
      "3             35                        5           False  \n",
      "4             36                       14           False  \n"
     ]
    }
   ],
   "source": [
    "# Load dataset\n",
    "print(\"Loading dataset...\")\n",
    "df = pd.read_csv(\"retail_inventory_data.csv\")\n",
    "df['Date'] = pd.to_datetime(df['Date'])\n",
    "print(\"Dataset loaded with shape:\", df.shape)\n",
    "print(df.head())"
   ]
  },
  {
   "cell_type": "code",
   "execution_count": 4,
   "id": "3bdd33eb-1d26-44e4-85f1-6917907c155f",
   "metadata": {},
   "outputs": [
    {
     "name": "stdout",
     "output_type": "stream",
     "text": [
      "Calculating 7-day moving average...\n"
     ]
    }
   ],
   "source": [
    "# Calculate 7-day moving average of units sold per SKU\n",
    "print(\"Calculating 7-day moving average...\")\n",
    "daily_sales = df.groupby(['Date', 'SKU_ID'])['Units_Sold'].sum().reset_index()\n",
    "daily_sales['7D_MA_Units_Sold'] = daily_sales.groupby('SKU_ID')['Units_Sold'].transform(lambda x: x.rolling(window=7).mean())\n"
   ]
  },
  {
   "cell_type": "code",
   "execution_count": 5,
   "id": "8c6bf1bb-f79d-4919-907b-398cf71a3fbf",
   "metadata": {},
   "outputs": [
    {
     "name": "stdout",
     "output_type": "stream",
     "text": [
      "Merged dataset sample:\n",
      "        Date Store_ID    SKU_ID     Category  Units_Sold  Inventory_On_Hand  \\\n",
      "0 2024-01-01  Store_3  SKU_1004    Groceries          17                196   \n",
      "1 2024-01-02  Store_1  SKU_1001  Electronics          25                 85   \n",
      "2 2024-01-03  Store_3  SKU_1001      Apparel          20                 78   \n",
      "3 2024-01-04  Store_3  SKU_1002    Groceries          12                131   \n",
      "4 2024-01-05  Store_1  SKU_1004      Apparel          21                 51   \n",
      "\n",
      "   Reorder_Point  Supplier_Lead_Time_Days  Reorder_Needed  7D_MA_Units_Sold  \n",
      "0             34                        8           False               NaN  \n",
      "1             40                        5           False               NaN  \n",
      "2             57                       10           False               NaN  \n",
      "3             35                        5           False               NaN  \n",
      "4             36                       14           False               NaN  \n"
     ]
    }
   ],
   "source": [
    "# Merge back with main dataframe\n",
    "df = pd.merge(df, daily_sales[['Date', 'SKU_ID', '7D_MA_Units_Sold']], on=['Date', 'SKU_ID'], how='left')\n",
    "print(\"Merged dataset sample:\")\n",
    "print(df.head())\n",
    "\n",
    "# Flag SKUs needing reorder\n",
    "df['Reorder_Needed'] = df['Inventory_On_Hand'] < df['Reorder_Point']"
   ]
  },
  {
   "cell_type": "code",
   "execution_count": 6,
   "id": "461e4ad1-2f2e-42ee-b5c6-71aa04b0ac60",
   "metadata": {},
   "outputs": [
    {
     "name": "stdout",
     "output_type": "stream",
     "text": [
      "Creating SKU-level summary...\n"
     ]
    }
   ],
   "source": [
    "\n",
    "# Create summary per SKU\n",
    "print(\"Creating SKU-level summary...\")\n",
    "sku_summary = df.groupby('SKU_ID').agg({\n",
    "    'Units_Sold': 'sum',\n",
    "    'Inventory_On_Hand': 'mean',\n",
    "    'Reorder_Point': 'mean',\n",
    "    'Reorder_Needed': 'sum',\n",
    "    'Supplier_Lead_Time_Days': 'mean',\n",
    "    '7D_MA_Units_Sold': 'mean'\n",
    "}).reset_index()"
   ]
  },
  {
   "cell_type": "code",
   "execution_count": 7,
   "id": "d63caa29-051d-46b6-8898-375a9ca3e449",
   "metadata": {},
   "outputs": [
    {
     "name": "stdout",
     "output_type": "stream",
     "text": [
      "Summary created with shape: (5, 9)\n",
      "     SKU_ID  Units_Sold  Inventory_On_Hand  Reorder_Point  Reorder_Needed  \\\n",
      "0  SKU_1001         969         120.416667      44.666667               0   \n",
      "1  SKU_1002         670         129.028571      43.200000               0   \n",
      "2  SKU_1003         771         117.195122      44.097561               0   \n",
      "3  SKU_1004         949         125.744681      43.723404               0   \n",
      "4  SKU_1005         574         116.206897      45.137931               0   \n",
      "\n",
      "   Supplier_Lead_Time_Days  7D_MA_Units_Sold  Reorder_Rate (%)  \\\n",
      "0                 9.000000         20.023810               0.0   \n",
      "1                 9.942857         19.413793               0.0   \n",
      "2                 8.756098         18.951020               0.0   \n",
      "3                 9.595745         20.177700               0.0   \n",
      "4                 9.103448         20.180124               0.0   \n",
      "\n",
      "   Restock_Recommendation  \n",
      "0                   False  \n",
      "1                   False  \n",
      "2                   False  \n",
      "3                   False  \n",
      "4                   False  \n"
     ]
    }
   ],
   "source": [
    "# Calculate reorder rate and restock recommendation\n",
    "sku_summary['Reorder_Rate (%)'] = (sku_summary['Reorder_Needed'] / df['SKU_ID'].value_counts().mean()) * 100\n",
    "sku_summary['Restock_Recommendation'] = sku_summary['Inventory_On_Hand'] < sku_summary['Reorder_Point']\n",
    "print(\"Summary created with shape:\", sku_summary.shape)\n",
    "print(sku_summary.head())\n"
   ]
  },
  {
   "cell_type": "code",
   "execution_count": 8,
   "id": "6b4c361d-46db-444d-9200-cba12d837aa3",
   "metadata": {},
   "outputs": [
    {
     "name": "stdout",
     "output_type": "stream",
     "text": [
      "Displaying bar chart for units sold per SKU...\n"
     ]
    },
    {
     "name": "stderr",
     "output_type": "stream",
     "text": [
      "/var/folders/bq/5vjrfz8d501bv3f9dl1qhwrm0000gn/T/ipykernel_25166/3299545928.py:4: FutureWarning: \n",
      "\n",
      "Passing `palette` without assigning `hue` is deprecated and will be removed in v0.14.0. Assign the `x` variable to `hue` and set `legend=False` for the same effect.\n",
      "\n",
      "  sns.barplot(x='SKU_ID', y='Units_Sold', data=sku_summary, palette='Blues_d')\n"
     ]
    },
    {
     "data": {
      "image/png": "[encoded data removed]",
      "text/plain": [
       "<Figure size 1000x600 with 1 Axes>"
      ]
     },
     "metadata": {},
     "output_type": "display_data"
    }
   ],
   "source": [
    "# Visualization 1: Units sold per SKU\n",
    "print(\"Displaying bar chart for units sold per SKU...\")\n",
    "plt.figure(figsize=(10, 6))\n",
    "sns.barplot(x='SKU_ID', y='Units_Sold', data=sku_summary, palette='Blues_d')\n",
    "plt.title('Total Units Sold per SKU')\n",
    "plt.xlabel('SKU')\n",
    "plt.ylabel('Units Sold')\n",
    "plt.tight_layout()\n",
    "plt.savefig(\"units_sold_per_sku.png\")\n",
    "plt.show()"
   ]
  },
  {
   "cell_type": "code",
   "execution_count": 9,
   "id": "7eedafbf-b74e-4077-83db-7db34f1cddff",
   "metadata": {},
   "outputs": [
    {
     "name": "stdout",
     "output_type": "stream",
     "text": [
      "Displaying heatmap for restock recommendation...\n"
     ]
    },
    {
     "data": {
      "image/png": "[encoded data removed]",
      "text/plain": [
       "<Figure size 600x400 with 1 Axes>"
      ]
     },
     "metadata": {},
     "output_type": "display_data"
    }
   ],
   "source": [
    "# Visualization 2: Reorder recommendation heatmap\n",
    "print(\"Displaying heatmap for restock recommendation...\")\n",
    "plt.figure(figsize=(6, 4))\n",
    "sns.heatmap(pd.crosstab(sku_summary['SKU_ID'], sku_summary['Restock_Recommendation']),\n",
    "            cmap=\"YlGnBu\", cbar=False, linewidths=.5, annot=True, fmt='d')\n",
    "plt.title('Restock Recommendation by SKU')\n",
    "plt.tight_layout()\n",
    "plt.savefig(\"restock_recommendation_heatmap.png\")\n",
    "plt.show()"
   ]
  },
  {
   "cell_type": "code",
   "execution_count": 10,
   "id": "a591457a-cfc4-4b44-b9e8-e9d07512a1fc",
   "metadata": {},
   "outputs": [
    {
     "name": "stdout",
     "output_type": "stream",
     "text": [
      "Summary CSV saved to: inventory_sku_summary.csv\n"
     ]
    }
   ],
   "source": [
    "# Save summary to CSV\n",
    "summary_path = \"inventory_sku_summary.csv\"\n",
    "sku_summary.to_csv(summary_path, index=False)\n",
    "print(f\"Summary CSV saved to: {summary_path}\")\n"
   ]
  },
  {
   "cell_type": "code",
   "execution_count": null,
   "id": "04a4ab19-08ce-4840-94db-637dade2305d",
   "metadata": {},
   "outputs": [],
   "source": []
  }
 ],
 "metadata": {
  "kernelspec": {
   "display_name": "Python 3 (ipykernel)",
   "language": "python",
   "name": "python3"
  },
  "language_info": {
   "codemirror_mode": {
    "name": "ipython",
    "version": 3
   },
   "file_extension": ".py",
   "mimetype": "text/x-python",
   "name": "python",
   "nbconvert_exporter": "python",
   "pygments_lexer": "ipython3",
   "version": "3.12.4"
  }
 },
 "nbformat": 4,
 "nbformat_minor": 5
}
